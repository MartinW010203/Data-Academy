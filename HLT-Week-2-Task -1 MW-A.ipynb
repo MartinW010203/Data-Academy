{
 "metadata": {
  "language_info": {
   "codemirror_mode": {
    "name": "ipython",
    "version": 3
   },
   "file_extension": ".py",
   "mimetype": "text/x-python",
   "name": "python",
   "nbconvert_exporter": "python",
   "pygments_lexer": "ipython3",
   "version": "3.9.4"
  },
  "orig_nbformat": 2,
  "kernelspec": {
   "name": "python394jvsc74a57bd00922261909279fec50cb85bd1e8a0cf2f11540cc12bdbf1a08703f85bd9df3f1",
   "display_name": "Python 3.9.4 64-bit"
  },
  "metadata": {
   "interpreter": {
    "hash": "0922261909279fec50cb85bd1e8a0cf2f11540cc12bdbf1a08703f85bd9df3f1"
   }
  }
 },
 "nbformat": 4,
 "nbformat_minor": 2,
 "cells": [
  {
   "cell_type": "code",
   "execution_count": 3,
   "metadata": {},
   "outputs": [],
   "source": [
    "# Week 2 Home Task\n",
    "# Martin W\n",
    "\n",
    "# Data Academey Cafe\n"
   ]
  },
  {
   "cell_type": "code",
   "execution_count": 4,
   "metadata": {
    "tags": []
   },
   "outputs": [
    {
     "output_type": "stream",
     "name": "stdout",
     "text": [
      " Welcome to the Data Academy Cafe\n",
      " Please read the menu options and enter and options\n",
      "Hello\n",
      "Dining OUT 2\n",
      "Opening the Dine_Out_Function\n",
      "Closing the Dine_Out_Function 1\n"
     ]
    }
   ],
   "source": [
    "print(\" Welcome to the Data Academy Cafe\") \n",
    "print(\" Please read the menu options and enter and options\") \n",
    "\n",
    "dining_decision  = \"Test\"\n",
    "dining_decision_made = 0\n",
    "dining_decision = input(\" Would you like to 1: Dine In Restatuant  or 2: Take away Service\")\n",
    "dining_decision_int = int(dining_decision)\n",
    "\n",
    "while dining_decision_made == 0:\n",
    "    print(\"Hello\")\n",
    "    dining_decision_made = 1\n",
    "  #  dining_decision = input(\" Would you like to 1: Dine In Restatuant  or 2: Take away Service\")\n",
    "\n",
    "    if dining_decision_int == 1:\n",
    "         dining_decision_made = 1\n",
    "         print(\"Dining IN\", dining_decision)\n",
    "         dine_in_function()\n",
    "\n",
    "    elif dining_decision_int == 2:\n",
    "           dining_decision_made = 1\n",
    "           print(\"Dining OUT\",dining_decision)\n",
    "           dine_out_function()\n",
    "    else :\n",
    "           print(\" We did not understand your response please select again\", dining_decision)\n",
    "           dining_decision = input(\" Would you like to 1: Dine In Restatuant  or 2: Take away Service\")\n",
    "      \n"
   ]
  },
  {
   "cell_type": "code",
   "execution_count": 5,
   "metadata": {},
   "outputs": [],
   "source": [
    "def dine_in_function():\n",
    " print(\"Opening the Dine_In_Function\")\n",
    "\n",
    " print(\"Closing the Dine In Function\")\n"
   ]
  },
  {
   "cell_type": "code",
   "execution_count": 6,
   "metadata": {},
   "outputs": [],
   "source": [
    "def dine_out_function():\n",
    "    print(\"Opening the Dine_Out_Function\")\n",
    "    \n",
    "\n",
    "    dining_out_choice = input(\"Would you like to 1: Pick up Order or 2: Have your order delivered\")\n",
    "    \n",
    "    dining_out_choice_int = int(dining_out_choice)\n",
    "\n",
    "    print(\"Closing the Dine_Out_Function\", dining_out_choice_int)\n"
   ]
  },
  {
   "cell_type": "code",
   "execution_count": null,
   "metadata": {},
   "outputs": [],
   "source": [
    "def pick_up_order();\n",
    "\n",
    "print(\"Opening the Pick up_Function\")\n",
    "\n",
    "\n",
    "\n",
    "print(\"Closing the Pick up_Function\")"
   ]
  }
 ]
}