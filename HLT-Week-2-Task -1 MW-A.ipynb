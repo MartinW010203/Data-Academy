{
 "metadata": {
  "language_info": {
   "codemirror_mode": {
    "name": "ipython",
    "version": 3
   },
   "file_extension": ".py",
   "mimetype": "text/x-python",
   "name": "python",
   "nbconvert_exporter": "python",
   "pygments_lexer": "ipython3",
   "version": "3.9.4"
  },
  "orig_nbformat": 2,
  "kernelspec": {
   "name": "python394jvsc74a57bd00922261909279fec50cb85bd1e8a0cf2f11540cc12bdbf1a08703f85bd9df3f1",
   "display_name": "Python 3.9.4 64-bit"
  },
  "metadata": {
   "interpreter": {
    "hash": "0922261909279fec50cb85bd1e8a0cf2f11540cc12bdbf1a08703f85bd9df3f1"
   }
  }
 },
 "nbformat": 4,
 "nbformat_minor": 2,
 "cells": [
  {
   "cell_type": "code",
   "execution_count": 43,
   "metadata": {},
   "outputs": [],
   "source": [
    "# Week 2 Home Task\n",
    "# Martin W\n",
    "\n",
    "# Data Academey Cafe\n"
   ]
  },
  {
   "cell_type": "code",
   "execution_count": 44,
   "metadata": {},
   "outputs": [],
   "source": [
    "#Global Variable Defined\n",
    "import random\n",
    "Order_number_global = random.randint(1,100)"
   ]
  },
  {
   "cell_type": "code",
   "execution_count": 45,
   "metadata": {},
   "outputs": [],
   "source": [
    "def Gene_order_num_function() :\n",
    "\n",
    "   Order_number = Order_number_global + 1\n",
    "\n",
    "   return(Order_number)"
   ]
  },
  {
   "cell_type": "code",
   "execution_count": 46,
   "metadata": {},
   "outputs": [],
   "source": [
    "#Function of recording pick up details\n",
    "def pick_up_order():\n",
    "\n",
    "    print(\"Opening the Pick up_Function\")\n",
    "\n",
    "    Customer_name = input(\"please give your name\")\n",
    "\n",
    "   # Customer_address =(\"Please Give your Address\")\n",
    "    Customer_telephone_number = input(\"Please give your telephone number\")\n",
    "\n",
    "    print(\" Your name is\", Customer_name)\n",
    "    #print(\" Your address is:\",Customer_address)\n",
    "    print(\" Your telephone number is:\", Customer_telephone_number)\n",
    "\n",
    "    print(\"Closing the Pick up_Function\")"
   ]
  },
  {
   "cell_type": "code",
   "execution_count": 47,
   "metadata": {},
   "outputs": [],
   "source": [
    "def dine_in_function():\n",
    " print(\"Opening the Dine_In_Function\")\n",
    "\n",
    " dining_in_time   = input(\"What time would you like to dine\")\n",
    " diniing_in_group = input(\"How many people are attending\")\n",
    " diniing_in_contact_no = input(\"What is you contact number\")\n",
    " print(\"Your reservation is: Reservation Time\", dining_in_time, \"Group Size\", diniing_in_group, \"Contact Number\", diniing_in_contact_no)\n",
    " reservation_status = input(\" Can you confirm the reservation is correct? Select 1 for Yes and 2 for No\")\n",
    " reservation_status_int = int(reservation_status)\n",
    " if reservation_status_int == 1:\n",
    "      print(\"Thanks you for confirming the reservation\")\n",
    " elif reservation_status_int == 2:\n",
    "      print(\"Sorry the reservation is not correct...please start the process again\")    \n",
    " print(\"Closing the Dine In Function\")\n",
    " return()\n"
   ]
  },
  {
   "cell_type": "code",
   "execution_count": 48,
   "metadata": {},
   "outputs": [],
   "source": [
    "# Order process\n",
    "\n",
    "def  Order_builder():\n",
    "\n",
    "    print(\"Opening order builder\")\n",
    "\n",
    "    print(\"For Breakfast meal Deal select option: 1\")\n",
    "    print(\"For Lunch meal Deal select option: 2\")\n",
    "    print(\"For Dinner meal Deal select option: 3\")\n",
    "    menu_selection = input(\"Please make your order choice\")\n",
    "\n",
    "    menu_selection_int = int(menu_selection)\n",
    "\n",
    "    if menu_selection_int == 1:\n",
    "        print(\"Breakfast meal deal selected\")\n",
    "        menu_text = \"Breakfast meal deal selected\"\n",
    "\n",
    "    elif menu_selection_int == 2:\n",
    "         print(\"Lunch meal deal selected\")\n",
    "         menu_text = \"Lunch meal deal selected\"\n",
    "\n",
    "    elif menu_selection_int == 3:   \n",
    "        print(\"Lunch meal deal selected\")\n",
    "        menu_text = \"Dinner meal deal selected\"\n",
    "    else :\n",
    "        print(\"Sorry we did not understand your selection\")\n",
    "        menu_selection_int = 0\n",
    "\n",
    "\n",
    "    return(menu_selection_int, menu_text)\n"
   ]
  },
  {
   "cell_type": "code",
   "execution_count": 49,
   "metadata": {},
   "outputs": [],
   "source": [
    "#Function for recording delivery details\n",
    "def delivery_order():\n",
    "\n",
    "    print(\"Opening the Delivery_Function\")\n",
    "\n",
    "    Customer_name = input(\"Please give your name\")\n",
    "\n",
    "    Customer_address = input(\"Please Give your Address\")\n",
    "    Customer_telephone_number = input(\"Please give your telephone number\")\n",
    "\n",
    "    print(\" Your name is\", Customer_name)\n",
    "    print(\" Your address is:\",Customer_address)\n",
    "    print(\" Your telephone number is:\", Customer_telephone_number)\n",
    "\n",
    "    print(\"Closing the Delivery_Function\")\n",
    "    return( Customer_name, Customer_address , Customer_telephone_number)"
   ]
  },
  {
   "cell_type": "code",
   "execution_count": 50,
   "metadata": {},
   "outputs": [],
   "source": [
    "def dine_out_function():\n",
    "    print(\"Opening the Dine_Out_Function\")\n",
    "    \n",
    "\n",
    "    dining_out_choice = input(\"Would you like to 1: Pick up Order or 2: Have your order delivered\")\n",
    "    \n",
    "    dining_out_choice_int = int(dining_out_choice)\n",
    "    if dining_out_choice_int == 1:\n",
    "\n",
    "        print(\"Calling pickup order function\")\n",
    "\n",
    "        pick_up_order()\n",
    "        dine_out_status = 1\n",
    "    elif dining_out_choice_int == 2:\n",
    "\n",
    "        print(\"Calling delivery service function\")\n",
    "\n",
    "        Cust_name, Cust_address, Cust_number = delivery_order()\n",
    "        order_selection, order_text = Order_builder()\n",
    "        Customer_order_num = Gene_order_num_function()\n",
    "\n",
    "        print(\"Customer Order Number\", Customer_order_num)\n",
    "        print(\"Closing the Dine_Out_Function: You chose to order option\", dining_out_choice_int,\" & \", order_text, \" Order Number \",Customer_order_num)\n",
    "\n",
    "        dine_out_status = 1\n",
    "        customer_response = input(\"Is your order correct? Please press 1 for Yes or Press 2 for No\")\n",
    "        customer_response_int = int(customer_response)\n",
    "        \n",
    "        if customer_response_int == 1:\n",
    "          dine_out_status = 1\n",
    "        elif customer_response_int == 2:\n",
    "            dine_out_status = 0\n",
    "\n",
    "    \n",
    "\n",
    "    else :\n",
    "        print(\"Dine out function not complete\")\n",
    "        dine_out_status = 0\n",
    "\n",
    "    return(dine_out_status)\n"
   ]
  },
  {
   "cell_type": "code",
   "execution_count": 51,
   "metadata": {
    "tags": []
   },
   "outputs": [
    {
     "output_type": "stream",
     "name": "stdout",
     "text": [
      " Welcome to the Data Academy Cafe\n",
      " Please read the menu options and enter and options\n",
      "Hello\n",
      "Dining IN 1\n",
      "Opening the Dine_In_Function\n",
      "Your reservation is: Reservation Time 19:00 Group Size 4 Contact Number 01214591234\n",
      "Thanks you for confirming the reservation\n",
      "Closing the Dine In Function\n"
     ]
    }
   ],
   "source": [
    "print(\" Welcome to the Data Academy Cafe\") \n",
    "print(\" Please read the menu options and enter and options\") \n",
    "\n",
    "dining_decision  = \"Test\"\n",
    "dining_decision_made = 0\n",
    "dining_decision = input(\" Would you like to 1: Dine In Restatuant  or 2: Take away Service\")\n",
    "dining_decision_int = int(dining_decision)\n",
    "\n",
    "while dining_decision_made == 0:\n",
    "    print(\"Hello\")\n",
    "    dining_decision_made = 1\n",
    "  #  dining_decision = input(\" Would you like to 1: Dine In Restatuant  or 2: Take away Service\")\n",
    "\n",
    "    if dining_decision_int == 1:\n",
    "         dining_decision_made = 1\n",
    "         print(\"Dining IN\", dining_decision)\n",
    "         dine_in_function()\n",
    "\n",
    "    elif dining_decision_int == 2:\n",
    "           dining_decision_made = 1\n",
    "           print(\"Dining OUT\",dining_decision)\n",
    "           customer_status = dine_out_function()\n",
    "           if customer_status == 1:\n",
    "                  print(\"Oder completed OK debut #1\")\n",
    "           elif customer_status == 2:\n",
    "                  print(\"Order not complete OK...recalling order function #debug2\")\n",
    "                  customer_status = dine_out_function()\n",
    "    else :\n",
    "           print(\" We did not understand your response please select again\", dining_decision)\n",
    "           dining_decision = input(\" Would you like to 1: Dine In Restatuant  or 2: Take away Service\")\n",
    "      \n"
   ]
  }
 ]
}