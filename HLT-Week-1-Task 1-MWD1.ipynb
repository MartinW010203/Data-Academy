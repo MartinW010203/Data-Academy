{
 "metadata": {
  "language_info": {
   "codemirror_mode": {
    "name": "ipython",
    "version": 3
   },
   "file_extension": ".py",
   "mimetype": "text/x-python",
   "name": "python",
   "nbconvert_exporter": "python",
   "pygments_lexer": "ipython3",
   "version": "3.9.4"
  },
  "orig_nbformat": 2,
  "kernelspec": {
   "name": "python394jvsc74a57bd00922261909279fec50cb85bd1e8a0cf2f11540cc12bdbf1a08703f85bd9df3f1",
   "display_name": "Python 3.9.4 64-bit"
  },
  "metadata": {
   "interpreter": {
    "hash": "0922261909279fec50cb85bd1e8a0cf2f11540cc12bdbf1a08703f85bd9df3f1"
   }
  }
 },
 "nbformat": 4,
 "nbformat_minor": 2,
 "cells": [
  {
   "cell_type": "code",
   "execution_count": null,
   "metadata": {},
   "outputs": [],
   "source": [
    "# Data Academy \n",
    "#Week 1\n",
    "#Task 1\n",
    "#Martin Walters\n",
    "\n",
    "import random\n",
    "\n",
    "random_number_store = 2\n",
    "\n",
    "print(\"Random Number is: \", random_number_store)\n",
    "\n",
    "\n",
    "random_number_store = random.randint(1,10)\n",
    "\n",
    "print(\"Random Number is: \", random_number_store)\n",
    "\n",
    "user_name =input(\"Please State Your Name\")\n",
    "\n",
    "\n",
    "print(\"Hello\",user_name, \"Thanks for the response\")\n",
    "\n",
    "user_guess = input(\"Can you guess a number between 1 and 10......I have a random number stored\")\n",
    "\n",
    "if user_guess == random_number_store:\n",
    " print(\"Congratulations. You guessed: \", user_guess, \" The random number was also: \", random_number_store)\n",
    "\n",
    "else:\n",
    "  print(\"Unlucky this time, you guessed:\", user_guess, \" But the random number was: \", random_number_store)\n"
   ]
  },
  {
   "cell_type": "code",
   "execution_count": null,
   "metadata": {},
   "outputs": [],
   "source": [
    "#Task 2\n",
    "#To Develop a programme that asks a user for their favourie number between 1 and 100 and then tell them  a joke based on the number. Minimum of 3 jokes\n",
    "\n",
    "#welcome to the joke function\n",
    "import random\n",
    "\n",
    "print(\"Welcome to the joke factory....\")\n",
    "\n",
    "joke_number_store = input(\" Can you give me a number between 1 and 100?....I will give you a joke based on your number\")\n",
    "\n",
    "print(\"Thank you for your number....\", joke_number_store)\n",
    "\n",
    "joke_selection = random.randint(1,3)\n",
    "\n",
    "print(\"joke selection: \",joke_selection)\n",
    "\n",
    "if joke_selection == 1:\n",
    "\n",
    "    print(\" What do you call a hill  with \", joke_number_store, \" ants gathering ?........................answer...........the ant hill mob.\")\n",
    "\n",
    "elif joke_selection == 2:\n",
    "\n",
    "     print(\" How do you call a man with\", joke_number_store,\"rabbits  in his back pack?...................answer..............Warren !\")\n",
    "\n",
    "elif joke_selection == 3:\n",
    "\n",
    "    print(\"What do you call a crossing or a game made from \", joke_number_store, \"cards?.................answer......bridge!\")\n",
    "\n",
    "else :\n",
    "\n",
    " print(\"No joke selection made # error\")\n",
    "\n",
    "\n",
    "print(\"Thanks !\")\n",
    "\n"
   ]
  },
  {
   "cell_type": "code",
   "execution_count": null,
   "metadata": {},
   "outputs": [],
   "source": [
    "#Task 3\n",
    "# Write a menu recorder and feedback the menu request\n",
    "\n",
    "print(\"Welcome, this is the menu recorder....can you tell me toy favourite meal?\")\n",
    "\n",
    "main_meal = input(\"Please tell me your favourite main meal\")\n",
    "dessert_meal = input(\"Please let me know your favourite dessert\")\n",
    "drink_meal = input(\"Please let me know your favourite drink\")\n",
    "\n",
    "\n",
    "print(\"Your favourite meal is\", main_meal,\" with \",dessert_meal,\"accompanied by a glass of \",drink_meal)"
   ]
  },
  {
   "cell_type": "code",
   "execution_count": 11,
   "metadata": {},
   "outputs": [
    {
     "output_type": "stream",
     "name": "stdout",
     "text": [
      "Motorbike Value: £ 2000 Current Year 1\nMotorbike Value: £ 1800 Current Year 2\nMotorbike Value: £ 1620 Current Year 3\nMotorbike Value: £ 1458 Current Year 4\nMotorbike Value: £ 1312 Current Year 5\nMotorbike Value: £ 1180 Current Year 6\nMotorbike Value: £ 1062 Current Year 7\nMotorbike value: £ 955 Final Year 8\n"
     ]
    }
   ],
   "source": [
    "#Task 4\n",
    "#Motorbike depreciation\n",
    "\n",
    "\n",
    "Motorbike_initatial_value = 2000\n",
    "\n",
    "Depreciation = 0.1\n",
    "\n",
    "Depreciation_factor = 1- 0.1\n",
    "\n",
    "Current_Motorbike_Value = Motorbike_initatial_value\n",
    "\n",
    "Motorbike_Minimum_Value = 1000\n",
    "\n",
    "Year = 1\n",
    "\n",
    "while Current_Motorbike_Value >= Motorbike_Minimum_Value :\n",
    "     \n",
    "    print(\"Motorbike Value: £\", Current_Motorbike_Value, \"Current Year\", Year)\n",
    "    Current_Motorbike_Value = int(Current_Motorbike_Value* Depreciation_factor)\n",
    "    Year = Year + 1\n",
    "\n",
    "     \n",
    "\n",
    "print(\"Motorbike value: £\", Current_Motorbike_Value, \"Final Year\", Year)\n",
    " \n"
   ]
  },
  {
   "cell_type": "code",
   "execution_count": null,
   "metadata": {},
   "outputs": [],
   "source": []
  }
 ]
}