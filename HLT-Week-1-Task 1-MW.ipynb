{
 "metadata": {
  "language_info": {
   "codemirror_mode": {
    "name": "ipython",
    "version": 3
   },
   "file_extension": ".py",
   "mimetype": "text/x-python",
   "name": "python",
   "nbconvert_exporter": "python",
   "pygments_lexer": "ipython3",
   "version": "3.9.4"
  },
  "orig_nbformat": 2,
  "kernelspec": {
   "name": "python394jvsc74a57bd00922261909279fec50cb85bd1e8a0cf2f11540cc12bdbf1a08703f85bd9df3f1",
   "display_name": "Python 3.9.4 64-bit"
  },
  "metadata": {
   "interpreter": {
    "hash": "0922261909279fec50cb85bd1e8a0cf2f11540cc12bdbf1a08703f85bd9df3f1"
   }
  }
 },
 "nbformat": 4,
 "nbformat_minor": 2,
 "cells": [
  {
   "cell_type": "code",
   "execution_count": 9,
   "metadata": {},
   "outputs": [
    {
     "output_type": "stream",
     "name": "stdout",
     "text": [
      "Random Number is:  2\n",
      "Random Number is:  9\n",
      " Hello Martin Thanks for the response\n",
      "Unlucky this time, you guessed: 3  But the random number was:  9\n"
     ]
    }
   ],
   "source": [
    "# Data Academy \n",
    "#Week 1\n",
    "#Task 1\n",
    "#Martin Walters\n",
    "\n",
    "import random\n",
    "\n",
    "random_number_store = 2\n",
    "\n",
    "print(\"Random Number is: \", random_number_store)\n",
    "\n",
    "\n",
    "random_number_store = random.randint(1,10)\n",
    "\n",
    "print(\"Random Number is: \", random_number_store)\n",
    "\n",
    "user_name =input(\"Please State Your Name\")\n",
    "\n",
    "\n",
    "print(\"Hello\",user_name, \"Thanks for the response\")\n",
    "\n",
    "user_guess = input(\"Can you guess a number between 1 and 10......I have a random number stored\")\n",
    "\n",
    "if user_guess == random_number_store:\n",
    " print(\"Congratulations. You guessed: \", user_guess, \" The random number was also: \", random_number_store)\n",
    "\n",
    "else:\n",
    "  print(\"Unlucky this time, you guessed:\", user_guess, \" But the random number was: \", random_number_store)\n"
   ]
  },
  {
   "cell_type": "code",
   "execution_count": null,
   "metadata": {},
   "outputs": [],
   "source": []
  }
 ]
}