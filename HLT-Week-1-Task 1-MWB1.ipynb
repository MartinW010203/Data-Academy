{
 "metadata": {
  "language_info": {
   "codemirror_mode": {
    "name": "ipython",
    "version": 3
   },
   "file_extension": ".py",
   "mimetype": "text/x-python",
   "name": "python",
   "nbconvert_exporter": "python",
   "pygments_lexer": "ipython3",
   "version": "3.9.4"
  },
  "orig_nbformat": 2,
  "kernelspec": {
   "name": "python394jvsc74a57bd00922261909279fec50cb85bd1e8a0cf2f11540cc12bdbf1a08703f85bd9df3f1",
   "display_name": "Python 3.9.4 64-bit"
  },
  "metadata": {
   "interpreter": {
    "hash": "0922261909279fec50cb85bd1e8a0cf2f11540cc12bdbf1a08703f85bd9df3f1"
   }
  }
 },
 "nbformat": 4,
 "nbformat_minor": 2,
 "cells": [
  {
   "cell_type": "code",
   "execution_count": null,
   "metadata": {},
   "outputs": [],
   "source": [
    "# Data Academy \n",
    "#Week 1\n",
    "#Task 1\n",
    "#Martin Walters\n",
    "\n",
    "import random\n",
    "\n",
    "random_number_store = 2\n",
    "\n",
    "print(\"Random Number is: \", random_number_store)\n",
    "\n",
    "\n",
    "random_number_store = random.randint(1,10)\n",
    "\n",
    "print(\"Random Number is: \", random_number_store)\n",
    "\n",
    "user_name =input(\"Please State Your Name\")\n",
    "\n",
    "\n",
    "print(\"Hello\",user_name, \"Thanks for the response\")\n",
    "\n",
    "user_guess = input(\"Can you guess a number between 1 and 10......I have a random number stored\")\n",
    "\n",
    "if user_guess == random_number_store:\n",
    " print(\"Congratulations. You guessed: \", user_guess, \" The random number was also: \", random_number_store)\n",
    "\n",
    "else:\n",
    "  print(\"Unlucky this time, you guessed:\", user_guess, \" But the random number was: \", random_number_store)\n"
   ]
  },
  {
   "cell_type": "code",
   "execution_count": 15,
   "metadata": {},
   "outputs": [
    {
     "output_type": "stream",
     "name": "stdout",
     "text": [
      "Welcome to the joke factory....\n",
      "Thank you for your number.... 6\n",
      "joke selection:  1\n",
      " Joke number one based on input number;  6\n",
      "End of Loop\n"
     ]
    }
   ],
   "source": [
    "#Task 2\n",
    "#To Develop a programme that asks a user for their favourie number between 1 and 100 and then tell them  a joke based on the number. Minimum of 3 jokes\n",
    "\n",
    "#welcome to the joke function\n",
    "import random\n",
    "\n",
    "print(\"Welcome to the joke factory....\")\n",
    "\n",
    "joke_number_store = input(\" Can you give me a number between 1 and 100?....I will give you a joke based on your number\")\n",
    "\n",
    "print(\"Thank you for your number....\", joke_number_store)\n",
    "\n",
    "joke_selection = random.randint(1,3)\n",
    "\n",
    "print(\"joke selection: \",joke_selection)\n",
    "\n",
    "if joke_selection == 1:\n",
    "\n",
    "    print(\" Joke number one based on input number; \", joke_number_store)\n",
    "\n",
    "if joke_selection == 2:\n",
    "\n",
    "     print(\" joke number 2 based on input number: \", joke_number_store)\n",
    "\n",
    "if joke_selection == 3:\n",
    "\n",
    "    print(\"joke number 3  based on input number: \", joke_number_store)\n",
    "\n",
    "\n",
    "\n",
    "print(\"End of Loop\")\n",
    "\n"
   ]
  },
  {
   "cell_type": "code",
   "execution_count": null,
   "metadata": {},
   "outputs": [],
   "source": []
  }
 ]
}