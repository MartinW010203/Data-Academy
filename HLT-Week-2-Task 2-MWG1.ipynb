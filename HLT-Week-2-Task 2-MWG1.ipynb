{
 "metadata": {
  "language_info": {
   "codemirror_mode": {
    "name": "ipython",
    "version": 3
   },
   "file_extension": ".py",
   "mimetype": "text/x-python",
   "name": "python",
   "nbconvert_exporter": "python",
   "pygments_lexer": "ipython3",
   "version": "3.9.4"
  },
  "orig_nbformat": 2,
  "kernelspec": {
   "name": "python394jvsc74a57bd00922261909279fec50cb85bd1e8a0cf2f11540cc12bdbf1a08703f85bd9df3f1",
   "display_name": "Python 3.9.4 64-bit"
  },
  "metadata": {
   "interpreter": {
    "hash": "0922261909279fec50cb85bd1e8a0cf2f11540cc12bdbf1a08703f85bd9df3f1"
   }
  }
 },
 "nbformat": 4,
 "nbformat_minor": 2,
 "cells": [
  {
   "cell_type": "code",
   "execution_count": 1,
   "metadata": {},
   "outputs": [],
   "source": [
    "#Week 2 task 2\n",
    "#Motorbike function calculation\n",
    "\n",
    "def Motorbike_depreciation(Current_Motorbike_value, Depreciation_factor, Current_Year):\n",
    "  print(\"Calculating new Motorbike value\")\n",
    "  New_Motorbike_Value = int(Current_Motorbike_Value* Depreciation_factor)\n",
    "  New_Year = Current_Year + 1\n",
    "  return(New_Motorbike_Value , New_Year)"
   ]
  },
  {
   "cell_type": "code",
   "execution_count": 2,
   "metadata": {},
   "outputs": [
    {
     "output_type": "stream",
     "name": "stdout",
     "text": [
      "Calculating new Motorbike value\nMotorbike Value: £ 1800 Current Year 2\nCalculating new Motorbike value\nMotorbike Value: £ 1620 Current Year 2\nCalculating new Motorbike value\nMotorbike Value: £ 1458 Current Year 2\nCalculating new Motorbike value\nMotorbike Value: £ 1312 Current Year 2\nCalculating new Motorbike value\nMotorbike Value: £ 1180 Current Year 2\nCalculating new Motorbike value\nMotorbike Value: £ 1062 Current Year 2\nCalculating new Motorbike value\nMotorbike Value: £ 955 Current Year 2\nMotorbike value: £ 955 Final Year 2\n"
     ]
    }
   ],
   "source": [
    "#Week 2 Task 2\n",
    "#Motorbike depreciation\n",
    "\n",
    "\n",
    "Motorbike_initatial_value = 2000\n",
    "\n",
    "Depreciation = 0.1\n",
    "\n",
    "Depreciation_factor = 1- 0.1\n",
    "\n",
    "Current_Motorbike_Value = Motorbike_initatial_value\n",
    "\n",
    "Motorbike_Minimum_Value = 1000\n",
    "\n",
    "Year = 1\n",
    "\n",
    "\n",
    "while Current_Motorbike_Value >= Motorbike_Minimum_Value :\n",
    "     \n",
    "     Current_Motorbike_Value, Returned_Year = Motorbike_depreciation(Current_Motorbike_Value, Depreciation_factor, Year)\n",
    "     print(\"Motorbike Value: £\", Current_Motorbike_Value, \"Current Year\", Returned_Year)\n",
    "    \n",
    "   # Current_Motorbike_Value = int(Current_Motorbike_Value* Depreciation_factor)\n",
    "   # Year = Year + 1\n",
    "\n",
    "     \n",
    "\n",
    "print(\"Motorbike value: £\", Current_Motorbike_Value, \"Final Year\", Returned_Year)\n",
    " \n"
   ]
  },
  {
   "cell_type": "code",
   "execution_count": 3,
   "metadata": {},
   "outputs": [],
   "source": [
    "#Week 2 task 3\n",
    "#precedue definition\n",
    "def addition_function ( Value_1, Value_2) :\n",
    "\n",
    "    Result = Value_1 + Value_2\n",
    "\n",
    "    return(Result)"
   ]
  },
  {
   "cell_type": "code",
   "execution_count": 4,
   "metadata": {},
   "outputs": [],
   "source": [
    "#Week 2 task 3\n",
    "#Subratction Function\n",
    "def subtraction_function(Value_1, Value_2) :\n",
    "    Result = Value_1 - Value_2\n",
    "    \n",
    "    return(Result)\n"
   ]
  },
  {
   "cell_type": "code",
   "execution_count": 5,
   "metadata": {},
   "outputs": [],
   "source": [
    "#Week 2 task 3\n",
    "#Muliplication\n",
    "\n",
    "def multiplication_function(Value_1, Value_2):\n",
    "\n",
    "   Result = Value_1 * Value_2\n",
    "\n",
    "   return(Result)"
   ]
  },
  {
   "cell_type": "code",
   "execution_count": 6,
   "metadata": {},
   "outputs": [],
   "source": [
    "#Week 2 task 3\n",
    "#Division\n",
    "\n",
    "def divison_funtion(Value_1, Value_2):\n",
    "\n",
    "    Result = Value_1 / Value_2\n",
    "    return(Result)"
   ]
  },
  {
   "cell_type": "code",
   "execution_count": 7,
   "metadata": {},
   "outputs": [],
   "source": [
    "#Week 2 task 3\n",
    "#indicies \n",
    "def Indicies_1_2_function(Value_1,Value_2):\n",
    "\n",
    "    Result = Value_1 ** Value_2\n",
    "    return(Result)"
   ]
  },
  {
   "cell_type": "code",
   "execution_count": 8,
   "metadata": {},
   "outputs": [],
   "source": [
    "#Week 2 task 3\n",
    "def Indicies_2_1_function(Value_1,Value_2):\n",
    "\n",
    "    Result = Value_2 ** Value_1\n",
    "    return(Result)"
   ]
  },
  {
   "cell_type": "code",
   "execution_count": 10,
   "metadata": {},
   "outputs": [
    {
     "output_type": "stream",
     "name": "stdout",
     "text": [
      "Welcome to the calculation task. Here we plan to perform an operation on two integers that you choose\n",
      "Thank you for your numbers. The first number is 2  The second number is  4\n",
      "We need to perform and operation on these numbers can you select an option from the following menu?\n",
      " Enter  'a' is you want to ADD\n",
      " Enter  'b' is you want to SUBTRACT\n",
      " Enter  'c' is you want to MULTIPLY\n",
      " Enter  'd' is you want to DIVIDE\n",
      " Enter  'e' is you want to POWER OF first_number to the order of the second_number\n",
      " Enter  'f' is you want to POWER OF second_number to the order of the first_number\n",
      "Result from selection programme:   6\n"
     ]
    }
   ],
   "source": [
    "#Week 2 task 3\n",
    "#Task 3\n",
    "#Write a programme that askes for two numbers and perform a calculation on instruction\n",
    "\n",
    "First_number = 0\n",
    "Second_number = 0\n",
    "Operator_selection = 0\n",
    "Calculation_result = 0\n",
    "\n",
    "\n",
    "print(\"Welcome to the calculation task. Here we plan to perform an operation on two integers that you choose\")\n",
    "\n",
    "First_number_input  = input(\"Please give me your first number.......\")\n",
    "Second_number_input = input(\"Please give me your second number......\")\n",
    "\n",
    "First_number = int(First_number_input)\n",
    "Second_number = int(Second_number_input)\n",
    "\n",
    "\n",
    "print(\"Thank you for your numbers. The first number is\", First_number,\" The second number is \", Second_number)\n",
    "print(\"We need to perform and operation on these numbers can you select an option from the following menu?\")\n",
    "print(\" Enter  'a' is you want to ADD\")\n",
    "print(\" Enter  'b' is you want to SUBTRACT\")\n",
    "print(\" Enter  'c' is you want to MULTIPLY\")\n",
    "print(\" Enter  'd' is you want to DIVIDE\")\n",
    "print(\" Enter  'e' is you want to POWER OF first_number to the order of the second_number\")\n",
    "print(\" Enter  'f' is you want to POWER OF second_number to the order of the first_number\")\n",
    "\n",
    "Operator_selection = input(\" Please make your choice\")\n",
    "\n",
    "\n",
    "if Operator_selection == \"a\":\n",
    "\n",
    "      # Calculation_result =  First_number + Second_number\n",
    "      Calculation_result = addition_function(First_number, Second_number)\n",
    "      # print(\"Debug A First_number + Second_number =\", Calculation_result  )\n",
    "      \n",
    "\n",
    "elif Operator_selection == \"b\":\n",
    "  \n",
    "    # Calculation_result =  First_number - Second_number\n",
    "     Calculation_result = subtraction_function(First_number, Second_number)\n",
    "     print(\"Debug B First_number - Second_number =\", Calculation_result  ) \n",
    "\n",
    "\n",
    "elif Operator_selection == \"c\":\n",
    "  \n",
    "    # Calculation_result =  First_number * Second_number\n",
    "    Calculation_result = multiplication_function(First_number, Second_number)\n",
    "    print(\"Debug C First_number * Second_number =\", Calculation_result  ) \n",
    "\n",
    "elif Operator_selection == \"d\":\n",
    "  \n",
    "    # Calculation_result =  First_number / Second_number\n",
    "      Calculation_result = divison_funtion(First_number, Second_number)\n",
    "      print(\"Debug D First_number / Second_number =\", Calculation_result ) \n",
    "\n",
    "elif Operator_selection == \"e\":\n",
    "  \n",
    "    # Calculation_result =  First_number ** Second_number\n",
    "    Calculation_result = Indicies_1_2_function(First_number, Second_number)\n",
    "    print(\"Debug E First_number ^ Second_number =\", Calculation_result  ) \n",
    "\n",
    "\n",
    "elif Operator_selection == \"f\":\n",
    "  \n",
    "    # Calculation_result =  Second_number ** First_number\n",
    "      Calculation_result = Indicies_2_1_function(First_number, Second_number) \n",
    "      print(\"Debug F  Second_number ^ First_number  =\", Calculation_result  ) \n",
    "\n",
    "else :\n",
    "     \n",
    "      print(\"Debug ERROR\", Operator_selection)\n",
    " \n",
    "print(\"Result from selection programme:  \", Calculation_result)"
   ]
  },
  {
   "cell_type": "code",
   "execution_count": null,
   "metadata": {},
   "outputs": [],
   "source": []
  }
 ]
}